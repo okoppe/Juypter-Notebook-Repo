{
 "cells": [
  {
   "cell_type": "code",
   "execution_count": 4,
   "metadata": {},
   "outputs": [
    {
     "name": "stdout",
     "output_type": "stream",
     "text": [
      "your mom\n",
      "your mom\n",
      "your mom\n",
      "your mom\n",
      "your mom\n",
      "your mom\n",
      "your mom\n",
      "your mom\n",
      "your mom\n",
      "your mom\n",
      "loop deo deo\n",
      "loop deo deo\n",
      "loop deo deo\n",
      "loop deo deo\n",
      "loop deo deo\n",
      "loop deo deo\n",
      "loop deo deo\n",
      "loop deo deo\n",
      "loop deo deo\n",
      "loop deo deo\n",
      "loop deo deo\n",
      "loop deo deo\n",
      "loop deo deo\n",
      "loop deo deo\n",
      "loop deo deo\n"
     ]
    }
   ],
   "source": [
    "import git\n",
    "import time\n",
    "from threading import *\n",
    "\n",
    "#### must initiate a file with .git by typing in the direcorty of the file the git init \n",
    "#in comand line\n",
    "\n",
    "g = git.cmd.Git(\"/Users/owenkoppe/Desktop/git_test\")\n",
    "\n",
    "def update_files():\n",
    "    #must define g before looping\n",
    "    while(True):\n",
    "        #g.reset('--hard','HEAD')\n",
    "        g.pull('https://github.com/okoppe/Juypter-Notebook-Repo.git')\n",
    "        g.reset('--hard','HEAD')\n",
    "        print(\"loop deo deo\")\n",
    "        time.sleep(3)\n",
    "        \n",
    "# Create object of thread class    \n",
    "Thread_obj = Thread(target=update_files)        \n",
    "\n",
    "# Executing child thread\n",
    "Thread_obj.start()\n",
    "\n",
    "# Executing main thread\n",
    "for i in range(10):\n",
    "    print('your mom')"
   ]
  },
  {
   "cell_type": "code",
   "execution_count": null,
   "metadata": {},
   "outputs": [],
   "source": []
  }
 ],
 "metadata": {
  "kernelspec": {
   "display_name": "Python 3",
   "language": "python",
   "name": "python3"
  },
  "language_info": {
   "codemirror_mode": {
    "name": "ipython",
    "version": 3
   },
   "file_extension": ".py",
   "mimetype": "text/x-python",
   "name": "python",
   "nbconvert_exporter": "python",
   "pygments_lexer": "ipython3",
   "version": "3.7.4"
  }
 },
 "nbformat": 4,
 "nbformat_minor": 2
}
