{
 "cells": [
  {
   "cell_type": "code",
   "execution_count": null,
   "metadata": {},
   "outputs": [],
   "source": [
    "import subprocess\n",
    "import importlib.util\n",
    "\n",
    "def install(package_name):\n",
    "    spec = importlib.util.find_spec(package_name)\n",
    "    if spec is None:\n",
    "        subprocess.call(['pip', 'install', package_name])\n",
    "\n",
    "install('IPython')\n",
    "install('panel')\n",
    "install('matplotlib')\n",
    "install('scikit-image')\n",
    "install('OpenVisus')\n",
    "subprocess.call(['python', '-m', 'OpenVisus', 'configure'])"
   ]
  },
  {
   "cell_type": "code",
   "execution_count": null,
   "metadata": {},
   "outputs": [],
   "source": [
    "from IPython.display import display, HTML\n",
    "import skimage\n",
    "from OpenVisus import *\n",
    "display(HTML(\"\"))"
   ]
  },
  {
   "cell_type": "code",
   "execution_count": null,
   "metadata": {},
   "outputs": [],
   "source": [
    "import panel as pn\n",
    "pn.extension('vtk')"
   ]
  },
  {
   "cell_type": "code",
   "execution_count": null,
   "metadata": {},
   "outputs": [],
   "source": [
    "import matplotlib.pyplot as plt, skimage, OpenVisus"
   ]
  },
  {
   "cell_type": "code",
   "execution_count": null,
   "metadata": {},
   "outputs": [],
   "source": [
    "MicroCT=OpenVisus.LoadDataset('http://atlantis.sci.utah.edu/mod_visus?dataset=4D_micro_CT_sandstones&cached=1')\n",
    "print(\"Scalar fields names=\",MicroCT.getFields())\n",
    "print(\"Dataset [x,y,z] dimensions=\",MicroCT.getLogicBox()[1])"
   ]
  },
  {
   "cell_type": "code",
   "execution_count": null,
   "metadata": {},
   "outputs": [],
   "source": [
    "#max_resolution=24\n",
    "max_resolution=21\n",
    "vol=MicroCT.read(max_resolution=max_resolution)\n",
    "print(\"shape\",vol.shape,\"dtype\",vol.dtype)"
   ]
  },
  {
   "cell_type": "code",
   "execution_count": null,
   "metadata": {},
   "outputs": [],
   "source": [
    "volume = pn.panel(vol, sizing_mode='stretch_both', height=400, display_slices=True)\n",
    "# volume"
   ]
  },
  {
   "cell_type": "code",
   "execution_count": null,
   "metadata": {},
   "outputs": [],
   "source": [
    "pn.Row(volume.controls(jslink=True), volume)"
   ]
  },
  {
   "cell_type": "code",
   "execution_count": null,
   "metadata": {},
   "outputs": [],
   "source": []
  }
 ],
 "metadata": {
  "kernelspec": {
   "display_name": "Python 3.10.7 64-bit",
   "language": "python",
   "name": "python3"
  },
  "language_info": {
   "codemirror_mode": {
    "name": "ipython",
    "version": 3
   },
   "file_extension": ".py",
   "mimetype": "text/x-python",
   "name": "python",
   "nbconvert_exporter": "python",
   "pygments_lexer": "ipython3",
   "version": "3.10.7"
  },
  "vscode": {
   "interpreter": {
    "hash": "aee8b7b246df8f9039afb4144a1f6fd8d2ca17a180786b69acc140d282b71a49"
   }
  }
 },
 "nbformat": 4,
 "nbformat_minor": 5
}
