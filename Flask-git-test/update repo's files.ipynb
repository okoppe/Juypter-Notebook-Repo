{
 "cells": [
  {
   "cell_type": "code",
   "execution_count": 46,
   "metadata": {},
   "outputs": [
    {
     "name": "stdout",
     "output_type": "stream",
     "text": [
      "yep\n"
     ]
    }
   ],
   "source": [
    "import git\n",
    "import time\n",
    "from threading import *\n",
    "\n",
    "#### must initiate a file with .git by typing in the direcorty of the file the git init \n",
    "#in comand line\n",
    "\n",
    "g = git.cmd.Git(\"/Users/owenkoppe/Desktop/git_test\")\n",
    "\n",
    "#function for updating the local repo with the main rep\n",
    "def update_files():\n",
    "    #must define g before looping\n",
    "    while(True):\n",
    "        g.pull('https://github.com/okoppe/Juypter-Notebook-Repo.git')\n",
    "        g.reset('--hard','HEAD')\n",
    "        time.sleep(3) #dont run code again for a few second\n",
    "        \n",
    "# Create object of thread class    \n",
    "Thread_obj = Thread(target=update_files)        \n",
    "\n",
    "# Executing child thread\n",
    "Thread_obj.start()\n",
    "\n",
    "# Execute main thread\n",
    "print('yep')"
   ]
  },
  {
   "cell_type": "code",
   "execution_count": 47,
   "metadata": {},
   "outputs": [
    {
     "name": "stdout",
     "output_type": "stream",
     "text": [
      "['requirements.txt', 'main.py']\n"
     ]
    }
   ],
   "source": [
    "from os import listdir\n",
    "from os.path import isfile, join\n",
    "mypath = \"/Users/owenkoppe/Desktop/Flask-git-test\"\n",
    "mypath2 = \"/Users/owenkoppe/Desktop/git_test\"\n",
    "onlyfiles = [f for f in listdir(mypath) if isfile(join(mypath, f))]\n",
    "print(onlyfiles)\n"
   ]
  },
  {
   "cell_type": "code",
   "execution_count": 48,
   "metadata": {},
   "outputs": [],
   "source": [
    "from os import walk\n",
    "\n",
    "filenames = next(walk(mypath), (None, None, []))[2]  # [] if no file"
   ]
  },
  {
   "cell_type": "code",
   "execution_count": 36,
   "metadata": {},
   "outputs": [
    {
     "data": {
      "text/plain": [
       "['requirements.txt', 'main.py']"
      ]
     },
     "execution_count": 36,
     "metadata": {},
     "output_type": "execute_result"
    }
   ],
   "source": [
    "filenames"
   ]
  },
  {
   "cell_type": "code",
   "execution_count": 68,
   "metadata": {},
   "outputs": [
    {
     "name": "stdout",
     "output_type": "stream",
     "text": [
      "geo vis d4j.ipynb\n",
      "demo_slice_foam_dataset_from_cloud_sources.ipynb\n",
      "update repo's files.ipynb\n"
     ]
    }
   ],
   "source": [
    "import os\n",
    "from os.path import join, getsize\n",
    "file_dict = {}\n",
    "python_file_arr = []\n",
    "for root, dirs, files in os.walk(mypath2):\n",
    "    if (\".git\" in root)==False:\n",
    "        file_dict[root] = files\n",
    "        for f in files:\n",
    "            if (\".ipynb\" in f):\n",
    "                print(f)\n",
    "                python_file_arr = python_file_arr+[f]"
   ]
  },
  {
   "cell_type": "code",
   "execution_count": 69,
   "metadata": {},
   "outputs": [
    {
     "data": {
      "text/plain": [
       "{'/Users/owenkoppe/Desktop/git_test': ['geo vis d4j.ipynb',\n",
       "  'README.md',\n",
       "  'demo_slice_foam_dataset_from_cloud_sources.ipynb',\n",
       "  \"update repo's files.ipynb\"],\n",
       " '/Users/owenkoppe/Desktop/git_test/Flask-git-test': ['requirements.txt',\n",
       "  'main.py'],\n",
       " '/Users/owenkoppe/Desktop/git_test/Flask-git-test/templates': ['index.html']}"
      ]
     },
     "execution_count": 69,
     "metadata": {},
     "output_type": "execute_result"
    }
   ],
   "source": [
    "file_dict"
   ]
  },
  {
   "cell_type": "code",
   "execution_count": 70,
   "metadata": {},
   "outputs": [
    {
     "data": {
      "text/plain": [
       "['geo vis d4j.ipynb',\n",
       " 'demo_slice_foam_dataset_from_cloud_sources.ipynb',\n",
       " \"update repo's files.ipynb\"]"
      ]
     },
     "execution_count": 70,
     "metadata": {},
     "output_type": "execute_result"
    }
   ],
   "source": [
    "python_file_arr"
   ]
  },
  {
   "cell_type": "code",
   "execution_count": null,
   "metadata": {},
   "outputs": [],
   "source": []
  }
 ],
 "metadata": {
  "kernelspec": {
   "display_name": "Python 3",
   "language": "python",
   "name": "python3"
  },
  "language_info": {
   "codemirror_mode": {
    "name": "ipython",
    "version": 3
   },
   "file_extension": ".py",
   "mimetype": "text/x-python",
   "name": "python",
   "nbconvert_exporter": "python",
   "pygments_lexer": "ipython3",
   "version": "3.7.4"
  }
 },
 "nbformat": 4,
 "nbformat_minor": 2
}
