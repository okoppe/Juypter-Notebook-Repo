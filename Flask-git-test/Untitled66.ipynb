{
 "cells": [
  {
   "cell_type": "code",
   "execution_count": 1,
   "metadata": {},
   "outputs": [],
   "source": [
    "import subprocess\n",
    "import os\n",
    "import bokeh\n",
    "import threading\n",
    "\n",
    "class jupterNotebook:\n",
    "    def __init__(self, fileName, filePath):\n",
    "        self.fileName = fileName\n",
    "        self.filePath = filePath\n",
    "        self.converted = subprocess.call(['jupyter', 'nbconvert', '--to', 'script', filePath + fileName])\n",
    "        if (self.converted == 0):\n",
    "            self.PyFileName = fileName.replace(\"ipynb\",\"py\")\n",
    "\n",
    "    def startServer(self, port):\n",
    "        subprocess.call(['python3', '-m', 'bokeh', 'serve',  '--show',\n",
    "                 filePath + fileName])\n",
    "        \n",
    "    def serveBokehApp(self, port): #add port arg?\n",
    "        def startServer(self, port):\n",
    "            subprocess.call(['python3', '-m', 'bokeh', 'serve', '--port', port, self.filePath + self.fileName])\n",
    "            \n",
    "        thread1 = threading.Thread(target=startServer, args=(self, 5006))\n",
    "        if (self.converted == 0):\n",
    "            thread1.start()\n",
    "            return \"thread started\"\n",
    "        return \"failed\"\n",
    "        \n",
    "\n",
    "#subprocess.call(['python3', '-m', 'bokeh', 'serve',  '--show',\n",
    "#                             self.filePath + self.fileName])"
   ]
  },
  {
   "cell_type": "code",
   "execution_count": 2,
   "metadata": {},
   "outputs": [
    {
     "name": "stdout",
     "output_type": "stream",
     "text": [
      "0\n"
     ]
    }
   ],
   "source": [
    "j1 = jupterNotebook(\"neon.ipynb\", \"/Users/owenkoppe/Desktop/\")\n",
    "print(j1.converted)"
   ]
  },
  {
   "cell_type": "code",
   "execution_count": 3,
   "metadata": {},
   "outputs": [
    {
     "data": {
      "text/plain": [
       "'thread started'"
      ]
     },
     "execution_count": 3,
     "metadata": {},
     "output_type": "execute_result"
    },
    {
     "name": "stderr",
     "output_type": "stream",
     "text": [
      "Exception in thread Thread-4:\n",
      "Traceback (most recent call last):\n",
      "  File \"/Users/owenkoppe/opt/anaconda3/lib/python3.7/threading.py\", line 926, in _bootstrap_inner\n",
      "    self.run()\n",
      "  File \"/Users/owenkoppe/opt/anaconda3/lib/python3.7/threading.py\", line 870, in run\n",
      "    self._target(*self._args, **self._kwargs)\n",
      "  File \"<ipython-input-1-9bf69cfc9eed>\", line 20, in startServer\n",
      "    subprocess.call(['python3', '-m', 'bokeh', 'serve', '--port', port, self.filePath + self.fileName])\n",
      "  File \"/Users/owenkoppe/opt/anaconda3/lib/python3.7/subprocess.py\", line 323, in call\n",
      "    with Popen(*popenargs, **kwargs) as p:\n",
      "  File \"/Users/owenkoppe/opt/anaconda3/lib/python3.7/subprocess.py\", line 775, in __init__\n",
      "    restore_signals, start_new_session)\n",
      "  File \"/Users/owenkoppe/opt/anaconda3/lib/python3.7/subprocess.py\", line 1453, in _execute_child\n",
      "    restore_signals, start_new_session, preexec_fn)\n",
      "TypeError: expected str, bytes or os.PathLike object, not int\n",
      "\n"
     ]
    }
   ],
   "source": [
    "j1.serveBokehApp(5000)"
   ]
  },
  {
   "cell_type": "code",
   "execution_count": null,
   "metadata": {},
   "outputs": [],
   "source": [
    "j2 = jupterNotebook(\"sin_wave_bokeh_server_notebook.ipynb\", \"/Users/owenkoppe/Desktop/\")\n",
    "print(j2.converted)\n",
    "j2.serveBokehApp()\n"
   ]
  },
  {
   "cell_type": "code",
   "execution_count": null,
   "metadata": {},
   "outputs": [],
   "source": [
    "subprocess.call(['jupyter', 'nbconvert', '--to', 'script', \"/Users/owenkoppe/Desktop/sin_wave_bokeh_server_notebook.ipynb\"])"
   ]
  },
  {
   "cell_type": "code",
   "execution_count": null,
   "metadata": {},
   "outputs": [],
   "source": [
    "subprocess.call(['jupyter', 'nbconvert', '--to', 'script', \"/Users/owenkoppe/Desktop/neon.ipybn\"])"
   ]
  },
  {
   "cell_type": "code",
   "execution_count": null,
   "metadata": {},
   "outputs": [],
   "source": [
    "import os\n",
    "#os.environ[\"BOKEH_ALLOW_WS_ORIGIN\"]=\"localhost:8890\"\n",
    "\n",
    "subprocess.call(['python3', '-m', 'bokeh', 'serve',  '--show',\n",
    "                 '/Users/owenkoppe/Desktop/neon.py'])\n",
    "\n",
    "#subprocess.call(['python3', '-m', 'bokeh', 'serve',  '--show',\n",
    "#                 '/Users/owenkoppe/Desktop/neon.py',\n",
    "#                 '--allow-websocket-origin=localhost:8890'])\n",
    "\n",
    "#python3 -m bokeh serve --show neon.py --allow-websocket-origin=ns1007523.ip-51-81-155.us:5006"
   ]
  },
  {
   "cell_type": "code",
   "execution_count": null,
   "metadata": {},
   "outputs": [],
   "source": [
    "subprocess.call(['python3', '-m', 'bokeh', 'serve',  '--show',\n",
    "                 '/Users/owenkoppe/Desktop/neon.py'])"
   ]
  }
 ],
 "metadata": {
  "kernelspec": {
   "display_name": "Python 3",
   "language": "python",
   "name": "python3"
  },
  "language_info": {
   "codemirror_mode": {
    "name": "ipython",
    "version": 3
   },
   "file_extension": ".py",
   "mimetype": "text/x-python",
   "name": "python",
   "nbconvert_exporter": "python",
   "pygments_lexer": "ipython3",
   "version": "3.7.4"
  }
 },
 "nbformat": 4,
 "nbformat_minor": 2
}
